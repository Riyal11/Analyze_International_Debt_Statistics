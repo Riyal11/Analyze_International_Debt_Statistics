{
  "cells": [
    {
      "cell_type": "code",
      "execution_count": null,
      "id": "18a4f267",
      "metadata": {
        "id": "18a4f267",
        "outputId": "88976bfe-cbff-487c-a1c8-625d1a64d561"
      },
      "outputs": [
        {
          "name": "stdout",
          "output_type": "stream",
          "text": [
            "Requirement already satisfied: csvkit in c:\\users\\msi\\anaconda3\\lib\\site-packages (1.1.1)\n",
            "Requirement already satisfied: agate-sql>=0.5.3 in c:\\users\\msi\\anaconda3\\lib\\site-packages (from csvkit) (0.5.9)\n",
            "Requirement already satisfied: agate>=1.6.1 in c:\\users\\msi\\anaconda3\\lib\\site-packages (from csvkit) (1.7.1)\n",
            "Requirement already satisfied: agate-excel>=0.2.2 in c:\\users\\msi\\anaconda3\\lib\\site-packages (from csvkit) (0.2.5)\n",
            "Requirement already satisfied: agate-dbf>=0.2.2 in c:\\users\\msi\\anaconda3\\lib\\site-packages (from csvkit) (0.2.2)\n",
            "Requirement already satisfied: pytimeparse>=1.1.5 in c:\\users\\msi\\anaconda3\\lib\\site-packages (from agate>=1.6.1->csvkit) (1.1.8)\n",
            "Requirement already satisfied: Babel>=2.0 in c:\\users\\msi\\anaconda3\\lib\\site-packages (from agate>=1.6.1->csvkit) (2.9.1)\n",
            "Requirement already satisfied: parsedatetime!=2.5,>=2.1 in c:\\users\\msi\\anaconda3\\lib\\site-packages (from agate>=1.6.1->csvkit) (2.6)\n",
            "Requirement already satisfied: python-slugify>=1.2.1 in c:\\users\\msi\\anaconda3\\lib\\site-packages (from agate>=1.6.1->csvkit) (5.0.2)\n",
            "Requirement already satisfied: leather>=0.3.2 in c:\\users\\msi\\anaconda3\\lib\\site-packages (from agate>=1.6.1->csvkit) (0.3.4)\n",
            "Requirement already satisfied: isodate>=0.5.4 in c:\\users\\msi\\anaconda3\\lib\\site-packages (from agate>=1.6.1->csvkit) (0.6.1)\n",
            "Requirement already satisfied: dbfread>=2.0.5 in c:\\users\\msi\\anaconda3\\lib\\site-packages (from agate-dbf>=0.2.2->csvkit) (2.0.7)\n",
            "Requirement already satisfied: openpyxl>=2.3.0 in c:\\users\\msi\\anaconda3\\lib\\site-packages (from agate-excel>=0.2.2->csvkit) (3.0.10)\n",
            "Requirement already satisfied: xlrd>=0.9.4 in c:\\users\\msi\\anaconda3\\lib\\site-packages (from agate-excel>=0.2.2->csvkit) (2.0.1)\n",
            "Requirement already satisfied: olefile in c:\\users\\msi\\anaconda3\\lib\\site-packages (from agate-excel>=0.2.2->csvkit) (0.46)\n",
            "Requirement already satisfied: six in c:\\users\\msi\\anaconda3\\lib\\site-packages (from agate-excel>=0.2.2->csvkit) (1.16.0)\n",
            "Requirement already satisfied: sqlalchemy<2 in c:\\users\\msi\\anaconda3\\lib\\site-packages (from agate-sql>=0.5.3->csvkit) (1.4.39)\n",
            "Requirement already satisfied: pytz>=2015.7 in c:\\users\\msi\\anaconda3\\lib\\site-packages (from Babel>=2.0->agate>=1.6.1->csvkit) (2022.1)\n",
            "Requirement already satisfied: et_xmlfile in c:\\users\\msi\\anaconda3\\lib\\site-packages (from openpyxl>=2.3.0->agate-excel>=0.2.2->csvkit) (1.1.0)\n",
            "Requirement already satisfied: text-unidecode>=1.3 in c:\\users\\msi\\anaconda3\\lib\\site-packages (from python-slugify>=1.2.1->agate>=1.6.1->csvkit) (1.3)\n",
            "Requirement already satisfied: greenlet!=0.4.17 in c:\\users\\msi\\anaconda3\\lib\\site-packages (from sqlalchemy<2->agate-sql>=0.5.3->csvkit) (1.1.1)\n"
          ]
        }
      ],
      "source": [
        "!pip install csvkit"
      ]
    },
    {
      "cell_type": "code",
      "execution_count": null,
      "id": "4b34732a",
      "metadata": {
        "id": "4b34732a",
        "outputId": "73af54eb-6b20-47d9-a72e-12fdbca3a656"
      },
      "outputs": [
        {
          "name": "stdout",
          "output_type": "stream",
          "text": [
            "Collecting ipython-sql\n",
            "  Downloading ipython_sql-0.5.0-py3-none-any.whl (20 kB)\n",
            "Requirement already satisfied: ipython in c:\\users\\msi\\anaconda3\\lib\\site-packages (from ipython-sql) (7.31.1)\n",
            "Requirement already satisfied: ipython-genutils in c:\\users\\msi\\anaconda3\\lib\\site-packages (from ipython-sql) (0.2.0)\n",
            "Collecting sqlalchemy>=2.0\n",
            "  Downloading SQLAlchemy-2.0.19-cp39-cp39-win_amd64.whl (2.0 MB)\n",
            "     ---------------------------------------- 2.0/2.0 MB 5.8 MB/s eta 0:00:00\n",
            "Collecting prettytable\n",
            "  Downloading prettytable-3.8.0-py3-none-any.whl (27 kB)\n",
            "Requirement already satisfied: six in c:\\users\\msi\\anaconda3\\lib\\site-packages (from ipython-sql) (1.16.0)\n",
            "Collecting sqlparse\n",
            "  Downloading sqlparse-0.4.4-py3-none-any.whl (41 kB)\n",
            "     ---------------------------------------- 41.2/41.2 kB 1.9 MB/s eta 0:00:00\n",
            "Requirement already satisfied: greenlet!=0.4.17 in c:\\users\\msi\\anaconda3\\lib\\site-packages (from sqlalchemy>=2.0->ipython-sql) (1.1.1)\n",
            "Requirement already satisfied: typing-extensions>=4.2.0 in c:\\users\\msi\\anaconda3\\lib\\site-packages (from sqlalchemy>=2.0->ipython-sql) (4.3.0)\n",
            "Requirement already satisfied: traitlets>=4.2 in c:\\users\\msi\\anaconda3\\lib\\site-packages (from ipython->ipython-sql) (5.1.1)\n",
            "Requirement already satisfied: prompt-toolkit!=3.0.0,!=3.0.1,<3.1.0,>=2.0.0 in c:\\users\\msi\\anaconda3\\lib\\site-packages (from ipython->ipython-sql) (3.0.20)\n",
            "Requirement already satisfied: matplotlib-inline in c:\\users\\msi\\anaconda3\\lib\\site-packages (from ipython->ipython-sql) (0.1.6)\n",
            "Requirement already satisfied: pickleshare in c:\\users\\msi\\anaconda3\\lib\\site-packages (from ipython->ipython-sql) (0.7.5)\n",
            "Requirement already satisfied: setuptools>=18.5 in c:\\users\\msi\\anaconda3\\lib\\site-packages (from ipython->ipython-sql) (63.4.1)\n",
            "Requirement already satisfied: backcall in c:\\users\\msi\\anaconda3\\lib\\site-packages (from ipython->ipython-sql) (0.2.0)\n",
            "Requirement already satisfied: pygments in c:\\users\\msi\\anaconda3\\lib\\site-packages (from ipython->ipython-sql) (2.11.2)\n",
            "Requirement already satisfied: colorama in c:\\users\\msi\\anaconda3\\lib\\site-packages (from ipython->ipython-sql) (0.4.5)\n",
            "Requirement already satisfied: jedi>=0.16 in c:\\users\\msi\\anaconda3\\lib\\site-packages (from ipython->ipython-sql) (0.18.1)\n",
            "Requirement already satisfied: decorator in c:\\users\\msi\\anaconda3\\lib\\site-packages (from ipython->ipython-sql) (5.1.1)\n",
            "Requirement already satisfied: wcwidth in c:\\users\\msi\\anaconda3\\lib\\site-packages (from prettytable->ipython-sql) (0.2.5)\n",
            "Requirement already satisfied: parso<0.9.0,>=0.8.0 in c:\\users\\msi\\anaconda3\\lib\\site-packages (from jedi>=0.16->ipython->ipython-sql) (0.8.3)\n",
            "Installing collected packages: sqlparse, sqlalchemy, prettytable, ipython-sql\n",
            "  Attempting uninstall: sqlalchemy\n",
            "    Found existing installation: SQLAlchemy 1.4.39\n",
            "    Uninstalling SQLAlchemy-1.4.39:\n",
            "      Successfully uninstalled SQLAlchemy-1.4.39\n",
            "Successfully installed ipython-sql-0.5.0 prettytable-3.8.0 sqlalchemy-2.0.19 sqlparse-0.4.4\n"
          ]
        },
        {
          "name": "stderr",
          "output_type": "stream",
          "text": [
            "ERROR: pip's dependency resolver does not currently take into account all the packages that are installed. This behaviour is the source of the following dependency conflicts.\n",
            "agate-sql 0.5.9 requires sqlalchemy<2, but you have sqlalchemy 2.0.19 which is incompatible.\n"
          ]
        }
      ],
      "source": [
        "!pip install ipython-sql\n"
      ]
    },
    {
      "cell_type": "code",
      "execution_count": null,
      "id": "cfe3fefd",
      "metadata": {
        "id": "cfe3fefd"
      },
      "outputs": [],
      "source": [
        "import sqlite3\n",
        "\n",
        "conn = sqlite3.connect('debt_stats.db')\n",
        "conn.close()\n"
      ]
    },
    {
      "cell_type": "code",
      "execution_count": null,
      "id": "94cc8140",
      "metadata": {
        "id": "94cc8140",
        "outputId": "e8c0fcb0-0ae8-4ca4-fba4-6f20bcc08272"
      },
      "outputs": [
        {
          "name": "stdout",
          "output_type": "stream",
          "text": [
            "The sql extension is already loaded. To reload it, use:\n",
            "  %reload_ext sql\n"
          ]
        }
      ],
      "source": [
        "%load_ext sql"
      ]
    },
    {
      "cell_type": "code",
      "execution_count": null,
      "id": "81fca951",
      "metadata": {
        "id": "81fca951",
        "outputId": "fee45019-1453-4bc0-e4a0-d0d3ec0e79cd"
      },
      "outputs": [
        {
          "name": "stdout",
          "output_type": "stream",
          "text": [
            "C:\\Users\\MSI\\Documents\\International_Debt\n"
          ]
        }
      ],
      "source": [
        "import os\n",
        "\n",
        "current_directory = os.getcwd()\n",
        "print(current_directory)\n"
      ]
    },
    {
      "cell_type": "code",
      "execution_count": null,
      "id": "71796ae1",
      "metadata": {
        "id": "71796ae1"
      },
      "outputs": [],
      "source": [
        "%sql sqlite:///C:\\Users\\MSI\\Documents\\International_Debt/debt_stats.db\n"
      ]
    },
    {
      "cell_type": "code",
      "execution_count": null,
      "id": "51e657e8",
      "metadata": {
        "id": "51e657e8",
        "outputId": "01270372-0a2e-42c3-ada9-f32c610402f1"
      },
      "outputs": [
        {
          "name": "stdout",
          "output_type": "stream",
          "text": [
            " * sqlite:///C:\\Users\\MSI\\Documents\\International_Debt/debt_stats.db\n",
            "(sqlite3.OperationalError) table international_debt already exists\n",
            "[SQL: -- Create the table structure\n",
            "CREATE TABLE international_debt (\n",
            "    country_name TEXT,\n",
            "    country_code TEXT,\n",
            "    indicator_name TEXT,\n",
            "    indicator_code TEXT,\n",
            "    debt NUMERIC\n",
            ");]\n",
            "(Background on this error at: https://sqlalche.me/e/20/e3q8)\n"
          ]
        }
      ],
      "source": [
        "%%sql\n",
        "\n",
        "-- Create the table structure\n",
        "CREATE TABLE international_debt (\n",
        "    country_name TEXT,\n",
        "    country_code TEXT,\n",
        "    indicator_name TEXT,\n",
        "    indicator_code TEXT,\n",
        "    debt NUMERIC\n",
        ");\n",
        "\n",
        "-- Import data from CSV\n",
        ".mode csv\n",
        ".import international_debt.csv international_debt\n"
      ]
    },
    {
      "cell_type": "markdown",
      "source": [
        "## 1. <b>Analyzing International Debt Data from The World Bank </b>\n",
        "<p>When it comes to managing economies, countries, just like individuals, might also resort to taking on debts. One significant avenue for countries to secure financing is through organizations like  <a href=\"https://www.worldbank.org\">The World Bank</a>, which provides loans to nations for various purposes, such as infrastructure development. In this notebook, we'll delve into the analysis of international debt data that has been compiled by The World Bank.</p>\n",
        "\n",
        "<h4>Objective:</h4>\n",
        "<p>In this analysis, we aim to explore and extract insights from a dataset containing information about the debt amounts (in USD) owed by developing countries across different debt categories. By querying this dataset, we will seek answers to questions like:</p>\n",
        "<ul>\n",
        "<li>What is the total accumulated debt across all countries listed in the dataset?</li>\n",
        "<li>Which specific country has the highest debt, and what is the corresponding debt amount?</li>\n",
        "<li>How does the average debt amount vary across different debt indicators?</li>\n",
        "</ul>\n",
        "<p><img src=\"https://assets.datacamp.com/production/project_754/img/image.jpg\" alt></p>\n",
        "<p>The first line of code connects us to the <code>international_debt</code> database where the table <code>international_debt</code> is residing. Let's first <code>SELECT</code> <em>all</em> of the columns from the <code>international_debt</code> table. Also, we'll limit the output to the first ten rows to keep the output clean.</p>\n"
      ],
      "metadata": {
        "id": "i89AE9dZuDHD"
      },
      "id": "i89AE9dZuDHD"
    },
    {
      "cell_type": "code",
      "execution_count": null,
      "id": "a7d53788",
      "metadata": {
        "id": "a7d53788",
        "outputId": "46455630-7685-4a9a-ff1a-68cad24dc391"
      },
      "outputs": [
        {
          "name": "stdout",
          "output_type": "stream",
          "text": [
            " * sqlite:///C:\\Users\\MSI\\Documents\\International_Debt/debt_stats.db\n",
            "Done.\n"
          ]
        },
        {
          "data": {
            "text/html": [
              "<table>\n",
              "    <thead>\n",
              "        <tr>\n",
              "            <th>country_name</th>\n",
              "            <th>country_code</th>\n",
              "            <th>indicator_name</th>\n",
              "            <th>indicator_code</th>\n",
              "            <th>debt</th>\n",
              "        </tr>\n",
              "    </thead>\n",
              "    <tbody>\n",
              "        <tr>\n",
              "            <td>Afghanistan</td>\n",
              "            <td>AFG</td>\n",
              "            <td>Disbursements on external debt, long-term (DIS, current US$)</td>\n",
              "            <td>DT.DIS.DLXF.CD</td>\n",
              "            <td>72894453.7</td>\n",
              "        </tr>\n",
              "        <tr>\n",
              "            <td>Afghanistan</td>\n",
              "            <td>AFG</td>\n",
              "            <td>Interest payments on external debt, long-term (INT, current US$)</td>\n",
              "            <td>DT.INT.DLXF.CD</td>\n",
              "            <td>53239440.1</td>\n",
              "        </tr>\n",
              "        <tr>\n",
              "            <td>Afghanistan</td>\n",
              "            <td>AFG</td>\n",
              "            <td>PPG, bilateral (AMT, current US$)</td>\n",
              "            <td>DT.AMT.BLAT.CD</td>\n",
              "            <td>61739336.9</td>\n",
              "        </tr>\n",
              "        <tr>\n",
              "            <td>Afghanistan</td>\n",
              "            <td>AFG</td>\n",
              "            <td>PPG, bilateral (DIS, current US$)</td>\n",
              "            <td>DT.DIS.BLAT.CD</td>\n",
              "            <td>49114729.4</td>\n",
              "        </tr>\n",
              "        <tr>\n",
              "            <td>Afghanistan</td>\n",
              "            <td>AFG</td>\n",
              "            <td>PPG, bilateral (INT, current US$)</td>\n",
              "            <td>DT.INT.BLAT.CD</td>\n",
              "            <td>39903620.1</td>\n",
              "        </tr>\n",
              "        <tr>\n",
              "            <td>Afghanistan</td>\n",
              "            <td>AFG</td>\n",
              "            <td>PPG, multilateral (AMT, current US$)</td>\n",
              "            <td>DT.AMT.MLAT.CD</td>\n",
              "            <td>39107845.0</td>\n",
              "        </tr>\n",
              "        <tr>\n",
              "            <td>Afghanistan</td>\n",
              "            <td>AFG</td>\n",
              "            <td>PPG, multilateral (DIS, current US$)</td>\n",
              "            <td>DT.DIS.MLAT.CD</td>\n",
              "            <td>23779724.3</td>\n",
              "        </tr>\n",
              "        <tr>\n",
              "            <td>Afghanistan</td>\n",
              "            <td>AFG</td>\n",
              "            <td>PPG, multilateral (INT, current US$)</td>\n",
              "            <td>DT.INT.MLAT.CD</td>\n",
              "            <td>13335820.0</td>\n",
              "        </tr>\n",
              "        <tr>\n",
              "            <td>Afghanistan</td>\n",
              "            <td>AFG</td>\n",
              "            <td>PPG, official creditors (AMT, current US$)</td>\n",
              "            <td>DT.AMT.OFFT.CD</td>\n",
              "            <td>100847181.9</td>\n",
              "        </tr>\n",
              "        <tr>\n",
              "            <td>Afghanistan</td>\n",
              "            <td>AFG</td>\n",
              "            <td>PPG, official creditors (DIS, current US$)</td>\n",
              "            <td>DT.DIS.OFFT.CD</td>\n",
              "            <td>72894453.7</td>\n",
              "        </tr>\n",
              "    </tbody>\n",
              "</table>"
            ],
            "text/plain": [
              "[('Afghanistan', 'AFG', 'Disbursements on external debt, long-term (DIS, current US$)', 'DT.DIS.DLXF.CD', 72894453.7),\n",
              " ('Afghanistan', 'AFG', 'Interest payments on external debt, long-term (INT, current US$)', 'DT.INT.DLXF.CD', 53239440.1),\n",
              " ('Afghanistan', 'AFG', 'PPG, bilateral (AMT, current US$)', 'DT.AMT.BLAT.CD', 61739336.9),\n",
              " ('Afghanistan', 'AFG', 'PPG, bilateral (DIS, current US$)', 'DT.DIS.BLAT.CD', 49114729.4),\n",
              " ('Afghanistan', 'AFG', 'PPG, bilateral (INT, current US$)', 'DT.INT.BLAT.CD', 39903620.1),\n",
              " ('Afghanistan', 'AFG', 'PPG, multilateral (AMT, current US$)', 'DT.AMT.MLAT.CD', 39107845.0),\n",
              " ('Afghanistan', 'AFG', 'PPG, multilateral (DIS, current US$)', 'DT.DIS.MLAT.CD', 23779724.3),\n",
              " ('Afghanistan', 'AFG', 'PPG, multilateral (INT, current US$)', 'DT.INT.MLAT.CD', 13335820.0),\n",
              " ('Afghanistan', 'AFG', 'PPG, official creditors (AMT, current US$)', 'DT.AMT.OFFT.CD', 100847181.9),\n",
              " ('Afghanistan', 'AFG', 'PPG, official creditors (DIS, current US$)', 'DT.DIS.OFFT.CD', 72894453.7)]"
            ]
          },
          "execution_count": 18,
          "metadata": {},
          "output_type": "execute_result"
        }
      ],
      "source": [
        "%%sql\n",
        "\n",
        "-- Select and display the first 10 rows\n",
        "SELECT * FROM international_debt LIMIT 10;\n"
      ]
    },
    {
      "cell_type": "markdown",
      "source": [
        "## 2. Finding the number of distinct countries\n",
        "<p>From the first ten rows, we can see the amount of debt owed by <em>Afghanistan</em> in the different debt indicators. But we do not know the number of different countries we have on the table. There are repetitions in the country names because a country is most likely to have debt in more than one debt indicator. </p>\n",
        "<p>Without a count of unique countries, we will not be able to perform our statistical analyses holistically. In this section, we are going to extract the number of unique countries present in the table. </p>"
      ],
      "metadata": {
        "id": "GpZFb0GkuJSD"
      },
      "id": "GpZFb0GkuJSD"
    },
    {
      "cell_type": "code",
      "execution_count": null,
      "id": "b382ec40",
      "metadata": {
        "id": "b382ec40",
        "outputId": "a7f5c1b2-288c-4725-f83e-574bbd50ba04"
      },
      "outputs": [
        {
          "name": "stdout",
          "output_type": "stream",
          "text": [
            " * sqlite:///C:\\Users\\MSI\\Documents\\International_Debt/debt_stats.db\n",
            "Done.\n"
          ]
        },
        {
          "data": {
            "text/html": [
              "<table>\n",
              "    <thead>\n",
              "        <tr>\n",
              "            <th>total_distinct_countries</th>\n",
              "        </tr>\n",
              "    </thead>\n",
              "    <tbody>\n",
              "        <tr>\n",
              "            <td>124</td>\n",
              "        </tr>\n",
              "    </tbody>\n",
              "</table>"
            ],
            "text/plain": [
              "[(124,)]"
            ]
          },
          "execution_count": 19,
          "metadata": {},
          "output_type": "execute_result"
        }
      ],
      "source": [
        "%%sql\n",
        "SELECT COUNT(DISTINCT(country_name)) AS total_distinct_countries\n",
        "FROM international_debt;\n"
      ]
    },
    {
      "cell_type": "markdown",
      "source": [
        "## 3. Finding out the distinct debt indicators\n",
        "<p>We can see there are a total of 124 countries present on the table. As we saw in the first section, there is a column called <code>indicator_name</code> that briefly specifies the purpose of taking the debt. Just beside that column, there is another column called <code>indicator_code</code> which symbolizes the category of these debts. Knowing about these various debt indicators will help us to understand the areas in which a country can possibly be indebted to. </p>"
      ],
      "metadata": {
        "id": "gwqNgEo-uzED"
      },
      "id": "gwqNgEo-uzED"
    },
    {
      "cell_type": "code",
      "execution_count": null,
      "id": "2dc87275",
      "metadata": {
        "id": "2dc87275",
        "outputId": "401bf3ff-dca4-47b7-8026-87f22ce03842"
      },
      "outputs": [
        {
          "name": "stdout",
          "output_type": "stream",
          "text": [
            " * sqlite:///C:\\Users\\MSI\\Documents\\International_Debt/debt_stats.db\n",
            "Done.\n"
          ]
        },
        {
          "data": {
            "text/html": [
              "<table>\n",
              "    <thead>\n",
              "        <tr>\n",
              "            <th>distinct_debt_indicators</th>\n",
              "        </tr>\n",
              "    </thead>\n",
              "    <tbody>\n",
              "        <tr>\n",
              "            <td>DT.AMT.BLAT.CD</td>\n",
              "        </tr>\n",
              "        <tr>\n",
              "            <td>DT.AMT.DLXF.CD</td>\n",
              "        </tr>\n",
              "        <tr>\n",
              "            <td>DT.AMT.DPNG.CD</td>\n",
              "        </tr>\n",
              "        <tr>\n",
              "            <td>DT.AMT.MLAT.CD</td>\n",
              "        </tr>\n",
              "        <tr>\n",
              "            <td>DT.AMT.OFFT.CD</td>\n",
              "        </tr>\n",
              "        <tr>\n",
              "            <td>DT.AMT.PBND.CD</td>\n",
              "        </tr>\n",
              "        <tr>\n",
              "            <td>DT.AMT.PCBK.CD</td>\n",
              "        </tr>\n",
              "        <tr>\n",
              "            <td>DT.AMT.PROP.CD</td>\n",
              "        </tr>\n",
              "        <tr>\n",
              "            <td>DT.AMT.PRVT.CD</td>\n",
              "        </tr>\n",
              "        <tr>\n",
              "            <td>DT.DIS.BLAT.CD</td>\n",
              "        </tr>\n",
              "        <tr>\n",
              "            <td>DT.DIS.DLXF.CD</td>\n",
              "        </tr>\n",
              "        <tr>\n",
              "            <td>DT.DIS.MLAT.CD</td>\n",
              "        </tr>\n",
              "        <tr>\n",
              "            <td>DT.DIS.OFFT.CD</td>\n",
              "        </tr>\n",
              "        <tr>\n",
              "            <td>DT.DIS.PCBK.CD</td>\n",
              "        </tr>\n",
              "        <tr>\n",
              "            <td>DT.DIS.PROP.CD</td>\n",
              "        </tr>\n",
              "        <tr>\n",
              "            <td>DT.DIS.PRVT.CD</td>\n",
              "        </tr>\n",
              "        <tr>\n",
              "            <td>DT.INT.BLAT.CD</td>\n",
              "        </tr>\n",
              "        <tr>\n",
              "            <td>DT.INT.DLXF.CD</td>\n",
              "        </tr>\n",
              "        <tr>\n",
              "            <td>DT.INT.DPNG.CD</td>\n",
              "        </tr>\n",
              "        <tr>\n",
              "            <td>DT.INT.MLAT.CD</td>\n",
              "        </tr>\n",
              "        <tr>\n",
              "            <td>DT.INT.OFFT.CD</td>\n",
              "        </tr>\n",
              "        <tr>\n",
              "            <td>DT.INT.PBND.CD</td>\n",
              "        </tr>\n",
              "        <tr>\n",
              "            <td>DT.INT.PCBK.CD</td>\n",
              "        </tr>\n",
              "        <tr>\n",
              "            <td>DT.INT.PROP.CD</td>\n",
              "        </tr>\n",
              "        <tr>\n",
              "            <td>DT.INT.PRVT.CD</td>\n",
              "        </tr>\n",
              "    </tbody>\n",
              "</table>"
            ],
            "text/plain": [
              "[('DT.AMT.BLAT.CD',),\n",
              " ('DT.AMT.DLXF.CD',),\n",
              " ('DT.AMT.DPNG.CD',),\n",
              " ('DT.AMT.MLAT.CD',),\n",
              " ('DT.AMT.OFFT.CD',),\n",
              " ('DT.AMT.PBND.CD',),\n",
              " ('DT.AMT.PCBK.CD',),\n",
              " ('DT.AMT.PROP.CD',),\n",
              " ('DT.AMT.PRVT.CD',),\n",
              " ('DT.DIS.BLAT.CD',),\n",
              " ('DT.DIS.DLXF.CD',),\n",
              " ('DT.DIS.MLAT.CD',),\n",
              " ('DT.DIS.OFFT.CD',),\n",
              " ('DT.DIS.PCBK.CD',),\n",
              " ('DT.DIS.PROP.CD',),\n",
              " ('DT.DIS.PRVT.CD',),\n",
              " ('DT.INT.BLAT.CD',),\n",
              " ('DT.INT.DLXF.CD',),\n",
              " ('DT.INT.DPNG.CD',),\n",
              " ('DT.INT.MLAT.CD',),\n",
              " ('DT.INT.OFFT.CD',),\n",
              " ('DT.INT.PBND.CD',),\n",
              " ('DT.INT.PCBK.CD',),\n",
              " ('DT.INT.PROP.CD',),\n",
              " ('DT.INT.PRVT.CD',)]"
            ]
          },
          "execution_count": 20,
          "metadata": {},
          "output_type": "execute_result"
        }
      ],
      "source": [
        "%%sql\n",
        "SELECT DISTINCT(indicator_code) AS distinct_debt_indicators\n",
        "From international_debt\n",
        "Order By 1;"
      ]
    },
    {
      "cell_type": "markdown",
      "source": [
        "## 4. Totaling the amount of debt owed by the countries\n",
        "<p>As mentioned earlier, the financial debt of a particular country represents its economic state. But if we were to project this on an overall global scale, how will we approach it?</p>\n",
        "<p>Let's switch gears from the debt indicators now and find out the total amount of debt (in USD) that is owed by the different countries. This will give us a sense of how the overall economy of the entire world is holding up.</p>"
      ],
      "metadata": {
        "id": "a4DRKiy7u1Np"
      },
      "id": "a4DRKiy7u1Np"
    },
    {
      "cell_type": "code",
      "execution_count": null,
      "id": "46859112",
      "metadata": {
        "id": "46859112",
        "outputId": "9d7febc5-317b-42e3-db90-8793061e956f"
      },
      "outputs": [
        {
          "name": "stdout",
          "output_type": "stream",
          "text": [
            " * sqlite:///C:\\Users\\MSI\\Documents\\International_Debt/debt_stats.db\n",
            "Done.\n"
          ]
        },
        {
          "data": {
            "text/html": [
              "<table>\n",
              "    <thead>\n",
              "        <tr>\n",
              "            <th>total_debt</th>\n",
              "        </tr>\n",
              "    </thead>\n",
              "    <tbody>\n",
              "        <tr>\n",
              "            <td>3079734.49</td>\n",
              "        </tr>\n",
              "    </tbody>\n",
              "</table>"
            ],
            "text/plain": [
              "[(3079734.49,)]"
            ]
          },
          "execution_count": 21,
          "metadata": {},
          "output_type": "execute_result"
        }
      ],
      "source": [
        "%%sql\n",
        "SELECT\n",
        "Round(sum(debt)/1000000,2) as total_debt\n",
        "from international_debt;"
      ]
    },
    {
      "cell_type": "markdown",
      "source": [
        "## 5. Country with the highest debt\n",
        "<p>\"Human beings cannot comprehend very large or very small numbers. It would be useful for us to acknowledge that fact.\" - <a href=\"https://en.wikipedia.org/wiki/Daniel_Kahneman\">Daniel Kahneman</a>. That is more than <em>3 million <strong>million</strong></em> USD, an amount which is really hard for us to fathom. </p>\n",
        "<p>Now that we have the exact total of the amounts of debt owed by several countries, let's now find out the country that owns the highest amount of debt along with the amount. <strong>Note</strong> that this debt is the sum of different debts owed by a country across several categories. This will help to understand more about the country in terms of its socio-economic scenarios. We can also find out the category in which the country owns its highest debt. But we will leave that for now. </p>"
      ],
      "metadata": {
        "id": "22AjDfH9u7Oy"
      },
      "id": "22AjDfH9u7Oy"
    },
    {
      "cell_type": "code",
      "execution_count": null,
      "id": "4a380136",
      "metadata": {
        "id": "4a380136",
        "outputId": "4e20a15b-9675-4341-e31c-d76c3d6ab3db"
      },
      "outputs": [
        {
          "name": "stdout",
          "output_type": "stream",
          "text": [
            " * sqlite:///C:\\Users\\MSI\\Documents\\International_Debt/debt_stats.db\n",
            "Done.\n"
          ]
        },
        {
          "data": {
            "text/html": [
              "<table>\n",
              "    <thead>\n",
              "        <tr>\n",
              "            <th>country_name</th>\n",
              "            <th>total_debt</th>\n",
              "        </tr>\n",
              "    </thead>\n",
              "    <tbody>\n",
              "        <tr>\n",
              "            <td>China</td>\n",
              "            <td>285793494734.2</td>\n",
              "        </tr>\n",
              "    </tbody>\n",
              "</table>"
            ],
            "text/plain": [
              "[('China', 285793494734.2)]"
            ]
          },
          "execution_count": 24,
          "metadata": {},
          "output_type": "execute_result"
        }
      ],
      "source": [
        "%%sql\n",
        "\n",
        "select\n",
        "country_name, sum(debt) as total_debt\n",
        "from international_debt\n",
        "group by country_name\n",
        "order by total_debt DESC\n",
        "limit 1;"
      ]
    },
    {
      "cell_type": "markdown",
      "source": [
        "## 6. Average amount of debt across indicators\n",
        "<p>So, it was <em>China</em>. A more in-depth breakdown of China's debts can be found <a href=\"https://datatopics.worldbank.org/debt/ids/country/CHN\">here</a>. </p>\n",
        "<p>We now have a brief overview of the dataset and a few of its summary statistics. We already have an idea of the different debt indicators in which the countries owe their debts. We can dig even further to find out on an average how much debt a country owes? This will give us a better sense of the distribution of the amount of debt across different indicators.</p>"
      ],
      "metadata": {
        "id": "_H2p6iaSu_1i"
      },
      "id": "_H2p6iaSu_1i"
    },
    {
      "cell_type": "code",
      "execution_count": null,
      "id": "06015565",
      "metadata": {
        "id": "06015565",
        "outputId": "e4da573f-8c87-4f01-e7cb-e13284292fce"
      },
      "outputs": [
        {
          "name": "stdout",
          "output_type": "stream",
          "text": [
            " * sqlite:///C:\\Users\\MSI\\Documents\\International_Debt/debt_stats.db\n",
            "Done.\n"
          ]
        },
        {
          "data": {
            "text/html": [
              "<table>\n",
              "    <thead>\n",
              "        <tr>\n",
              "            <th>debt_indicator</th>\n",
              "            <th>indicator_name</th>\n",
              "            <th>average_debt</th>\n",
              "        </tr>\n",
              "    </thead>\n",
              "    <tbody>\n",
              "        <tr>\n",
              "            <td>DT.AMT.DLXF.CD</td>\n",
              "            <td>Principal repayments on external debt, long-term (AMT, current US$)</td>\n",
              "            <td>5904868401.499195</td>\n",
              "        </tr>\n",
              "        <tr>\n",
              "            <td>DT.AMT.DPNG.CD</td>\n",
              "            <td>Principal repayments on external debt, private nonguaranteed (PNG) (AMT, current US$)</td>\n",
              "            <td>5161194333.812659</td>\n",
              "        </tr>\n",
              "        <tr>\n",
              "            <td>DT.DIS.DLXF.CD</td>\n",
              "            <td>Disbursements on external debt, long-term (DIS, current US$)</td>\n",
              "            <td>2152041216.8902435</td>\n",
              "        </tr>\n",
              "        <tr>\n",
              "            <td>DT.DIS.OFFT.CD</td>\n",
              "            <td>PPG, official creditors (DIS, current US$)</td>\n",
              "            <td>1958983452.8598351</td>\n",
              "        </tr>\n",
              "        <tr>\n",
              "            <td>DT.AMT.PRVT.CD</td>\n",
              "            <td>PPG, private creditors (AMT, current US$)</td>\n",
              "            <td>1803694101.963265</td>\n",
              "        </tr>\n",
              "        <tr>\n",
              "            <td>DT.INT.DLXF.CD</td>\n",
              "            <td>Interest payments on external debt, long-term (INT, current US$)</td>\n",
              "            <td>1644024067.6508067</td>\n",
              "        </tr>\n",
              "        <tr>\n",
              "            <td>DT.DIS.BLAT.CD</td>\n",
              "            <td>PPG, bilateral (DIS, current US$)</td>\n",
              "            <td>1223139290.39823</td>\n",
              "        </tr>\n",
              "        <tr>\n",
              "            <td>DT.INT.DPNG.CD</td>\n",
              "            <td>Interest payments on external debt, private nonguaranteed (PNG) (INT, current US$)</td>\n",
              "            <td>1220410844.4215188</td>\n",
              "        </tr>\n",
              "        <tr>\n",
              "            <td>DT.AMT.OFFT.CD</td>\n",
              "            <td>PPG, official creditors (AMT, current US$)</td>\n",
              "            <td>1191187963.083064</td>\n",
              "        </tr>\n",
              "        <tr>\n",
              "            <td>DT.AMT.PBND.CD</td>\n",
              "            <td>PPG, bonds (AMT, current US$)</td>\n",
              "            <td>1082623947.6536236</td>\n",
              "        </tr>\n",
              "    </tbody>\n",
              "</table>"
            ],
            "text/plain": [
              "[('DT.AMT.DLXF.CD', 'Principal repayments on external debt, long-term (AMT, current US$)', 5904868401.499195),\n",
              " ('DT.AMT.DPNG.CD', 'Principal repayments on external debt, private nonguaranteed (PNG) (AMT, current US$)', 5161194333.812659),\n",
              " ('DT.DIS.DLXF.CD', 'Disbursements on external debt, long-term (DIS, current US$)', 2152041216.8902435),\n",
              " ('DT.DIS.OFFT.CD', 'PPG, official creditors (DIS, current US$)', 1958983452.8598351),\n",
              " ('DT.AMT.PRVT.CD', 'PPG, private creditors (AMT, current US$)', 1803694101.963265),\n",
              " ('DT.INT.DLXF.CD', 'Interest payments on external debt, long-term (INT, current US$)', 1644024067.6508067),\n",
              " ('DT.DIS.BLAT.CD', 'PPG, bilateral (DIS, current US$)', 1223139290.39823),\n",
              " ('DT.INT.DPNG.CD', 'Interest payments on external debt, private nonguaranteed (PNG) (INT, current US$)', 1220410844.4215188),\n",
              " ('DT.AMT.OFFT.CD', 'PPG, official creditors (AMT, current US$)', 1191187963.083064),\n",
              " ('DT.AMT.PBND.CD', 'PPG, bonds (AMT, current US$)', 1082623947.6536236)]"
            ]
          },
          "execution_count": 26,
          "metadata": {},
          "output_type": "execute_result"
        }
      ],
      "source": [
        "%%sql\n",
        "select\n",
        "    indicator_code as debt_indicator,\n",
        "    indicator_name,\n",
        "    avg(debt) as average_debt\n",
        "from international_debt\n",
        "group by debt_indicator, indicator_name\n",
        "order by average_debt DESC\n",
        "limit 10;"
      ]
    },
    {
      "cell_type": "markdown",
      "source": [
        "## 7. The highest amount of principal repayments\n",
        "<p>We can see that the indicator <code>DT.AMT.DLXF.CD</code> tops the chart of average debt. This category includes repayment of long term debts. Countries take on long-term debt to acquire immediate capital. More information about this category can be found <a href=\"https://datacatalog.worldbank.org/principal-repayments-external-debt-long-term-amt-current-us-0\">here</a>. </p>\n",
        "<p>An interesting observation in the above finding is that there is a huge difference in the amounts of the indicators after the second one. This indicates that the first two indicators might be the most severe categories in which the countries owe their debts.</p>\n",
        "<p>We can investigate this a bit more so as to find out which country owes the highest amount of debt in the category of long term debts (<code>DT.AMT.DLXF.CD</code>). Since not all the countries suffer from the same kind of economic disturbances, this finding will allow us to understand that particular country's economic condition a bit more specifically. </p>"
      ],
      "metadata": {
        "id": "PAh_0HIQvH89"
      },
      "id": "PAh_0HIQvH89"
    },
    {
      "cell_type": "code",
      "execution_count": null,
      "id": "9b4bf6eb",
      "metadata": {
        "id": "9b4bf6eb",
        "outputId": "f2488efe-3afd-4e90-acbc-573ed2273dd6"
      },
      "outputs": [
        {
          "name": "stdout",
          "output_type": "stream",
          "text": [
            " * sqlite:///C:\\Users\\MSI\\Documents\\International_Debt/debt_stats.db\n",
            "Done.\n"
          ]
        },
        {
          "data": {
            "text/html": [
              "<table>\n",
              "    <thead>\n",
              "        <tr>\n",
              "            <th>country_name</th>\n",
              "            <th>indicator_name</th>\n",
              "        </tr>\n",
              "    </thead>\n",
              "    <tbody>\n",
              "        <tr>\n",
              "            <td>China</td>\n",
              "            <td>Principal repayments on external debt, long-term (AMT, current US$)</td>\n",
              "        </tr>\n",
              "    </tbody>\n",
              "</table>"
            ],
            "text/plain": [
              "[('China', 'Principal repayments on external debt, long-term (AMT, current US$)')]"
            ]
          },
          "execution_count": 28,
          "metadata": {},
          "output_type": "execute_result"
        }
      ],
      "source": [
        "%%sql\n",
        "\n",
        "select\n",
        "    country_name,\n",
        "    indicator_name\n",
        "from international_debt\n",
        "where debt = (Select\n",
        "                     max(debt)\n",
        "                from international_debt\n",
        "                where indicator_code like 'DT.AMT.DLXF.CD');"
      ]
    },
    {
      "cell_type": "markdown",
      "source": [
        "## 8. The most common debt indicator\n",
        "<p>China has the highest amount of debt in the long-term debt (<code>DT.AMT.DLXF.CD</code>) category. This is verified by <a href=\"https://data.worldbank.org/indicator/DT.AMT.DLXF.CD?end=2018&most_recent_value_desc=true\">The World Bank</a>. It is often a good idea to verify our analyses like this since it validates that our investigations are correct. </p>\n",
        "<p>We saw that long-term debt is the topmost category when it comes to the average amount of debt. But is it the most common indicator in which the countries owe their debt? Let's find that out. </p>"
      ],
      "metadata": {
        "id": "O-16d1E4vMcq"
      },
      "id": "O-16d1E4vMcq"
    },
    {
      "cell_type": "code",
      "execution_count": null,
      "id": "a4062e45",
      "metadata": {
        "id": "a4062e45",
        "outputId": "3f26878d-d872-4b9d-d2c2-aceb99fca615"
      },
      "outputs": [
        {
          "name": "stdout",
          "output_type": "stream",
          "text": [
            " * sqlite:///C:\\Users\\MSI\\Documents\\International_Debt/debt_stats.db\n",
            "Done.\n"
          ]
        },
        {
          "data": {
            "text/html": [
              "<table>\n",
              "    <thead>\n",
              "        <tr>\n",
              "            <th>indicator_code</th>\n",
              "            <th>indicator_count</th>\n",
              "        </tr>\n",
              "    </thead>\n",
              "    <tbody>\n",
              "        <tr>\n",
              "            <td>DT.INT.OFFT.CD</td>\n",
              "            <td>124</td>\n",
              "        </tr>\n",
              "        <tr>\n",
              "            <td>DT.INT.MLAT.CD</td>\n",
              "            <td>124</td>\n",
              "        </tr>\n",
              "        <tr>\n",
              "            <td>DT.INT.DLXF.CD</td>\n",
              "            <td>124</td>\n",
              "        </tr>\n",
              "        <tr>\n",
              "            <td>DT.AMT.OFFT.CD</td>\n",
              "            <td>124</td>\n",
              "        </tr>\n",
              "        <tr>\n",
              "            <td>DT.AMT.MLAT.CD</td>\n",
              "            <td>124</td>\n",
              "        </tr>\n",
              "        <tr>\n",
              "            <td>DT.AMT.DLXF.CD</td>\n",
              "            <td>124</td>\n",
              "        </tr>\n",
              "        <tr>\n",
              "            <td>DT.DIS.DLXF.CD</td>\n",
              "            <td>123</td>\n",
              "        </tr>\n",
              "        <tr>\n",
              "            <td>DT.INT.BLAT.CD</td>\n",
              "            <td>122</td>\n",
              "        </tr>\n",
              "        <tr>\n",
              "            <td>DT.DIS.OFFT.CD</td>\n",
              "            <td>122</td>\n",
              "        </tr>\n",
              "        <tr>\n",
              "            <td>DT.AMT.BLAT.CD</td>\n",
              "            <td>122</td>\n",
              "        </tr>\n",
              "        <tr>\n",
              "            <td>DT.DIS.MLAT.CD</td>\n",
              "            <td>120</td>\n",
              "        </tr>\n",
              "        <tr>\n",
              "            <td>DT.DIS.BLAT.CD</td>\n",
              "            <td>113</td>\n",
              "        </tr>\n",
              "        <tr>\n",
              "            <td>DT.INT.PRVT.CD</td>\n",
              "            <td>98</td>\n",
              "        </tr>\n",
              "        <tr>\n",
              "            <td>DT.AMT.PRVT.CD</td>\n",
              "            <td>98</td>\n",
              "        </tr>\n",
              "        <tr>\n",
              "            <td>DT.INT.PCBK.CD</td>\n",
              "            <td>84</td>\n",
              "        </tr>\n",
              "        <tr>\n",
              "            <td>DT.AMT.PCBK.CD</td>\n",
              "            <td>84</td>\n",
              "        </tr>\n",
              "        <tr>\n",
              "            <td>DT.INT.DPNG.CD</td>\n",
              "            <td>79</td>\n",
              "        </tr>\n",
              "        <tr>\n",
              "            <td>DT.AMT.DPNG.CD</td>\n",
              "            <td>79</td>\n",
              "        </tr>\n",
              "        <tr>\n",
              "            <td>DT.INT.PBND.CD</td>\n",
              "            <td>69</td>\n",
              "        </tr>\n",
              "        <tr>\n",
              "            <td>DT.AMT.PBND.CD</td>\n",
              "            <td>69</td>\n",
              "        </tr>\n",
              "    </tbody>\n",
              "</table>"
            ],
            "text/plain": [
              "[('DT.INT.OFFT.CD', 124),\n",
              " ('DT.INT.MLAT.CD', 124),\n",
              " ('DT.INT.DLXF.CD', 124),\n",
              " ('DT.AMT.OFFT.CD', 124),\n",
              " ('DT.AMT.MLAT.CD', 124),\n",
              " ('DT.AMT.DLXF.CD', 124),\n",
              " ('DT.DIS.DLXF.CD', 123),\n",
              " ('DT.INT.BLAT.CD', 122),\n",
              " ('DT.DIS.OFFT.CD', 122),\n",
              " ('DT.AMT.BLAT.CD', 122),\n",
              " ('DT.DIS.MLAT.CD', 120),\n",
              " ('DT.DIS.BLAT.CD', 113),\n",
              " ('DT.INT.PRVT.CD', 98),\n",
              " ('DT.AMT.PRVT.CD', 98),\n",
              " ('DT.INT.PCBK.CD', 84),\n",
              " ('DT.AMT.PCBK.CD', 84),\n",
              " ('DT.INT.DPNG.CD', 79),\n",
              " ('DT.AMT.DPNG.CD', 79),\n",
              " ('DT.INT.PBND.CD', 69),\n",
              " ('DT.AMT.PBND.CD', 69)]"
            ]
          },
          "execution_count": 29,
          "metadata": {},
          "output_type": "execute_result"
        }
      ],
      "source": [
        "%%sql\n",
        "select indicator_code, count(indicator_code) as indicator_count\n",
        "from international_debt\n",
        "group by indicator_code\n",
        "order by indicator_count DESC, indicator_code DESC\n",
        "limit 20;"
      ]
    },
    {
      "cell_type": "markdown",
      "source": [
        "## 9. Other viable debt issues and conclusion\n",
        "<p>There are a total of six debt indicators in which all the countries listed in our dataset have taken debt. The indicator <code>DT.AMT.DLXF.CD</code> is also there in the list. So, this gives us a clue that all these countries are suffering from a common economic issue. But that is not the end of the story, a part of the story rather. </p>\n",
        "<p>Let's change tracks from <code>debt_indicator</code>s now and focus on the amount of debt again. Let's find out the maximum amount of debt across the indicators along with the respective country names. With this, we will be in a position to identify the other plausible economic issues a country might be going through. By the end of this section, we will have found out the debt indicators in which a country owes its highest debt. </p>\n",
        "<p>In this notebook, we took a look at debt owed by countries across the globe. We extracted a few summary statistics from the data and unraveled some interesting facts and figures. We also validated our findings to make sure the investigations are correct.</p>"
      ],
      "metadata": {
        "id": "nA7VfIdvvWeC"
      },
      "id": "nA7VfIdvvWeC"
    },
    {
      "cell_type": "code",
      "execution_count": null,
      "id": "b103f254",
      "metadata": {
        "id": "b103f254",
        "outputId": "3dc94540-fa1e-4de9-d7bd-1726f89d69e6"
      },
      "outputs": [
        {
          "name": "stdout",
          "output_type": "stream",
          "text": [
            " * sqlite:///C:\\Users\\MSI\\Documents\\International_Debt/debt_stats.db\n",
            "Done.\n"
          ]
        },
        {
          "data": {
            "text/html": [
              "<table>\n",
              "    <thead>\n",
              "        <tr>\n",
              "            <th>country_name</th>\n",
              "            <th>indicator_name</th>\n",
              "            <th>maximum_debt</th>\n",
              "        </tr>\n",
              "    </thead>\n",
              "    <tbody>\n",
              "        <tr>\n",
              "            <td>China</td>\n",
              "            <td>Principal repayments on external debt, long-term (AMT, current US$)</td>\n",
              "            <td>96218620835.7</td>\n",
              "        </tr>\n",
              "        <tr>\n",
              "            <td>Brazil</td>\n",
              "            <td>Principal repayments on external debt, long-term (AMT, current US$)</td>\n",
              "            <td>90041840304.1</td>\n",
              "        </tr>\n",
              "        <tr>\n",
              "            <td>China</td>\n",
              "            <td>Principal repayments on external debt, private nonguaranteed (PNG) (AMT, current US$)</td>\n",
              "            <td>72392986213.8</td>\n",
              "        </tr>\n",
              "        <tr>\n",
              "            <td>Russian Federation</td>\n",
              "            <td>Principal repayments on external debt, long-term (AMT, current US$)</td>\n",
              "            <td>66589761833.5</td>\n",
              "        </tr>\n",
              "        <tr>\n",
              "            <td>Turkey</td>\n",
              "            <td>Principal repayments on external debt, long-term (AMT, current US$)</td>\n",
              "            <td>51555031005.8</td>\n",
              "        </tr>\n",
              "        <tr>\n",
              "            <td>South Asia</td>\n",
              "            <td>Principal repayments on external debt, long-term (AMT, current US$)</td>\n",
              "            <td>48756295898.2</td>\n",
              "        </tr>\n",
              "        <tr>\n",
              "            <td>Brazil</td>\n",
              "            <td>PPG, private creditors (AMT, current US$)</td>\n",
              "            <td>43598697498.6</td>\n",
              "        </tr>\n",
              "        <tr>\n",
              "            <td>Russian Federation</td>\n",
              "            <td>Principal repayments on external debt, private nonguaranteed (PNG) (AMT, current US$)</td>\n",
              "            <td>42800154974.9</td>\n",
              "        </tr>\n",
              "        <tr>\n",
              "            <td>Brazil</td>\n",
              "            <td>Principal repayments on external debt, private nonguaranteed (PNG) (AMT, current US$)</td>\n",
              "            <td>41831444053.3</td>\n",
              "        </tr>\n",
              "        <tr>\n",
              "            <td>Least developed countries: UN classification</td>\n",
              "            <td>Disbursements on external debt, long-term (DIS, current US$)</td>\n",
              "            <td>40160766261.6</td>\n",
              "        </tr>\n",
              "        <tr>\n",
              "            <td>Turkey</td>\n",
              "            <td>Principal repayments on external debt, private nonguaranteed (PNG) (AMT, current US$)</td>\n",
              "            <td>39916197430.0</td>\n",
              "        </tr>\n",
              "        <tr>\n",
              "            <td>Least developed countries: UN classification</td>\n",
              "            <td>PPG, official creditors (DIS, current US$)</td>\n",
              "            <td>37273977350.5</td>\n",
              "        </tr>\n",
              "        <tr>\n",
              "            <td>Brazil</td>\n",
              "            <td>PPG, other private creditors (AMT, current US$)</td>\n",
              "            <td>35119003750.0</td>\n",
              "        </tr>\n",
              "        <tr>\n",
              "            <td>IDA only</td>\n",
              "            <td>Disbursements on external debt, long-term (DIS, current US$)</td>\n",
              "            <td>34531188113.2</td>\n",
              "        </tr>\n",
              "        <tr>\n",
              "            <td>IDA only</td>\n",
              "            <td>PPG, official creditors (DIS, current US$)</td>\n",
              "            <td>33258230166.9</td>\n",
              "        </tr>\n",
              "        <tr>\n",
              "            <td>India</td>\n",
              "            <td>Principal repayments on external debt, long-term (AMT, current US$)</td>\n",
              "            <td>31923507000.8</td>\n",
              "        </tr>\n",
              "        <tr>\n",
              "            <td>Indonesia</td>\n",
              "            <td>Principal repayments on external debt, long-term (AMT, current US$)</td>\n",
              "            <td>30916112653.8</td>\n",
              "        </tr>\n",
              "        <tr>\n",
              "            <td>South Asia</td>\n",
              "            <td>Disbursements on external debt, long-term (DIS, current US$)</td>\n",
              "            <td>29306216064.7</td>\n",
              "        </tr>\n",
              "        <tr>\n",
              "            <td>South Asia</td>\n",
              "            <td>PPG, official creditors (DIS, current US$)</td>\n",
              "            <td>28991897351.5</td>\n",
              "        </tr>\n",
              "        <tr>\n",
              "            <td>Kazakhstan</td>\n",
              "            <td>Principal repayments on external debt, long-term (AMT, current US$)</td>\n",
              "            <td>27482093686.4</td>\n",
              "        </tr>\n",
              "    </tbody>\n",
              "</table>"
            ],
            "text/plain": [
              "[('China', 'Principal repayments on external debt, long-term (AMT, current US$)', 96218620835.7),\n",
              " ('Brazil', 'Principal repayments on external debt, long-term (AMT, current US$)', 90041840304.1),\n",
              " ('China', 'Principal repayments on external debt, private nonguaranteed (PNG) (AMT, current US$)', 72392986213.8),\n",
              " ('Russian Federation', 'Principal repayments on external debt, long-term (AMT, current US$)', 66589761833.5),\n",
              " ('Turkey', 'Principal repayments on external debt, long-term (AMT, current US$)', 51555031005.8),\n",
              " ('South Asia', 'Principal repayments on external debt, long-term (AMT, current US$)', 48756295898.2),\n",
              " ('Brazil', 'PPG, private creditors (AMT, current US$)', 43598697498.6),\n",
              " ('Russian Federation', 'Principal repayments on external debt, private nonguaranteed (PNG) (AMT, current US$)', 42800154974.9),\n",
              " ('Brazil', 'Principal repayments on external debt, private nonguaranteed (PNG) (AMT, current US$)', 41831444053.3),\n",
              " ('Least developed countries: UN classification', 'Disbursements on external debt, long-term (DIS, current US$)', 40160766261.6),\n",
              " ('Turkey', 'Principal repayments on external debt, private nonguaranteed (PNG) (AMT, current US$)', 39916197430.0),\n",
              " ('Least developed countries: UN classification', 'PPG, official creditors (DIS, current US$)', 37273977350.5),\n",
              " ('Brazil', 'PPG, other private creditors (AMT, current US$)', 35119003750.0),\n",
              " ('IDA only', 'Disbursements on external debt, long-term (DIS, current US$)', 34531188113.2),\n",
              " ('IDA only', 'PPG, official creditors (DIS, current US$)', 33258230166.9),\n",
              " ('India', 'Principal repayments on external debt, long-term (AMT, current US$)', 31923507000.8),\n",
              " ('Indonesia', 'Principal repayments on external debt, long-term (AMT, current US$)', 30916112653.8),\n",
              " ('South Asia', 'Disbursements on external debt, long-term (DIS, current US$)', 29306216064.7),\n",
              " ('South Asia', 'PPG, official creditors (DIS, current US$)', 28991897351.5),\n",
              " ('Kazakhstan', 'Principal repayments on external debt, long-term (AMT, current US$)', 27482093686.4)]"
            ]
          },
          "execution_count": 30,
          "metadata": {},
          "output_type": "execute_result"
        }
      ],
      "source": [
        "%%sql\n",
        "\n",
        "SELECT country_name, indicator_name, MAX(debt) AS maximum_debt\n",
        "FROM international_debt\n",
        "GROUP BY country_name, indicator_name\n",
        "order by maximum_debt DESC\n",
        "limit 20;\n"
      ]
    },
    {
      "cell_type": "code",
      "execution_count": null,
      "id": "17c12c45",
      "metadata": {
        "id": "17c12c45"
      },
      "outputs": [],
      "source": []
    }
  ],
  "metadata": {
    "kernelspec": {
      "display_name": "Python 3 (ipykernel)",
      "language": "python",
      "name": "python3"
    },
    "language_info": {
      "codemirror_mode": {
        "name": "ipython",
        "version": 3
      },
      "file_extension": ".py",
      "mimetype": "text/x-python",
      "name": "python",
      "nbconvert_exporter": "python",
      "pygments_lexer": "ipython3",
      "version": "3.9.13"
    },
    "colab": {
      "provenance": []
    }
  },
  "nbformat": 4,
  "nbformat_minor": 5
}